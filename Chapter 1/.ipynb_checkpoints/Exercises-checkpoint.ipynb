{
 "cells": [
  {
   "cell_type": "code",
   "execution_count": 1,
   "metadata": {},
   "outputs": [],
   "source": [
    "import numpy as np"
   ]
  },
  {
   "cell_type": "markdown",
   "metadata": {},
   "source": [
    "# Section 1.3"
   ]
  },
  {
   "cell_type": "markdown",
   "metadata": {},
   "source": [
    "## 1.3.1\n",
    "Apply elimination and back-substitution:\n",
    "\n",
    "* $2u + v + w = 5$\n",
    "* $4u -6v = -2$\n",
    "* $-2u + 7v + 2w = 9$"
   ]
  },
  {
   "cell_type": "markdown",
   "metadata": {},
   "source": [
    "#### Manual\n",
    "Matrix:\n",
    "\n",
    "$\\begin{matrix}A\\\\B\\\\C\\end{matrix}\n",
    "\\left[\n",
    "\\begin{matrix}2&-3&0\\\\4&-5&1\\\\2&-1&-3\\end{matrix}\n",
    "\\;\\middle|\\,\n",
    "\\begin{matrix}3\\\\7\\\\5\\end{matrix}\n",
    "\\right]$"
   ]
  },
  {
   "cell_type": "markdown",
   "metadata": {},
   "source": [
    "1. Subtract $B$ from $2 \\times A$ and $1 \\times C$ from $A$:\n",
    "\n",
    "$\\begin{bmatrix}2&-3&0&3\\\\0&-1&-1&-1\\\\0&-2&3&-2\\end{bmatrix}$"
   ]
  },
  {
   "cell_type": "markdown",
   "metadata": {},
   "source": [
    "2. Subtract $C$ from $-2 \\times B$:\n",
    "\n",
    "$\\begin{bmatrix}\n",
    "2&-3&0&3\\\\\n",
    "0&-1&-1&-1\\\\\n",
    "0&0&-5&0\\end{bmatrix}$"
   ]
  },
  {
   "cell_type": "markdown",
   "metadata": {},
   "source": [
    "Back-substitution:\n",
    "\n",
    "1. $-5w = 0; w=0$   \n",
    "2. $-v - 0 = -1; v = 1$\n",
    "3. $2u -3(1) + 0(0) = 3; u = 3$"
   ]
  },
  {
   "cell_type": "markdown",
   "metadata": {},
   "source": [
    "Solution:\n",
    "* $u = 3$\n",
    "* $v = 1$\n",
    "* $w = 0$"
   ]
  },
  {
   "cell_type": "markdown",
   "metadata": {},
   "source": [
    "#### Python"
   ]
  },
  {
   "cell_type": "code",
   "execution_count": 2,
   "metadata": {
    "scrolled": true
   },
   "outputs": [
    {
     "data": {
      "text/plain": [
       "array([[ 2, -3,  0,  3],\n",
       "       [ 4, -5,  1,  7],\n",
       "       [ 2, -1, -3,  5]])"
      ]
     },
     "execution_count": 2,
     "metadata": {},
     "output_type": "execute_result"
    }
   ],
   "source": [
    "# Matrix elimination\n",
    "matrix = np.array([[2,-3,0,3], [4,-5,1,7], [2,-1,-3,5]])\n",
    "matrix"
   ]
  },
  {
   "cell_type": "code",
   "execution_count": 3,
   "metadata": {},
   "outputs": [
    {
     "data": {
      "text/plain": [
       "array([[ 2, -3,  0,  3],\n",
       "       [ 0, -1, -1, -1],\n",
       "       [ 0, -2,  3, -2]])"
      ]
     },
     "execution_count": 3,
     "metadata": {},
     "output_type": "execute_result"
    }
   ],
   "source": [
    "# Step 1\n",
    "matrix[1] = 2*matrix[0] - matrix[1]\n",
    "matrix[2] = matrix[0] - matrix[2]\n",
    "matrix"
   ]
  },
  {
   "cell_type": "code",
   "execution_count": 4,
   "metadata": {},
   "outputs": [
    {
     "data": {
      "text/plain": [
       "array([[ 2, -3,  0,  3],\n",
       "       [ 0, -1, -1, -1],\n",
       "       [ 0,  0, -5,  0]])"
      ]
     },
     "execution_count": 4,
     "metadata": {},
     "output_type": "execute_result"
    }
   ],
   "source": [
    "# Step 2\n",
    "matrix[2] = 2*matrix[1] - matrix[2]\n",
    "matrix"
   ]
  },
  {
   "cell_type": "code",
   "execution_count": 5,
   "metadata": {
    "scrolled": true
   },
   "outputs": [
    {
     "data": {
      "text/plain": [
       "array([3.00000000e+00, 1.00000000e+00, 1.66533454e-17])"
      ]
     },
     "execution_count": 5,
     "metadata": {},
     "output_type": "execute_result"
    }
   ],
   "source": [
    "# Full solution\n",
    "a = np.array([[2,-3,0], [4,-5,1], [2,-1,-3]])\n",
    "b = np.array([3,7,5])\n",
    "np.linalg.solve(a,b)"
   ]
  },
  {
   "cell_type": "markdown",
   "metadata": {},
   "source": [
    "## 1.3.2\n",
    "Apply elimination and back-substitution:\n",
    "* $u + v + w = 2$\n",
    "* $u + 3v + 3w = 0$\n",
    "* $u + 3v + 5w = 2$"
   ]
  },
  {
   "cell_type": "markdown",
   "metadata": {},
   "source": [
    "#### Manual\n",
    "Matrix:\n",
    "\n",
    "$\\begin{matrix}A\\\\B\\\\C\\end{matrix}\n",
    "\\left[\n",
    "\\begin{matrix}1&1&1\\\\1&3&3\\\\1&3&5\\end{matrix}\n",
    "\\; \\middle| \\,\n",
    "\\begin{matrix}2\\\\0\\\\2\\end{matrix}\n",
    "\\right]$"
   ]
  },
  {
   "cell_type": "markdown",
   "metadata": {},
   "source": [
    "1. Subtract $B$ from $1 \\times A$ and $C$ from $1 \\times A$:\n",
    "\n",
    "$\\begin{bmatrix}\n",
    "1& 1& 1&2\\\\\n",
    "0&-2&-2&2\\\\\n",
    "0&-2&-4&0\n",
    "\\end{bmatrix}$"
   ]
  },
  {
   "cell_type": "markdown",
   "metadata": {},
   "source": [
    "2. Subtract $C$ from $1 \\times B$:\n",
    "\n",
    "$\\begin{bmatrix}\n",
    "1&1&1&2\\\\\n",
    "0&-2&-2&2\\\\\n",
    "0&0&2&2\n",
    "\\end{bmatrix}$"
   ]
  },
  {
   "cell_type": "markdown",
   "metadata": {},
   "source": [
    "Back-substitution:\n",
    "1. $2w = 2; w=1$\n",
    "2. $-2v -2(1) = 2; v = -2$\n",
    "3. $1u +1(-2) + 1(1) = 2; u = 3$"
   ]
  },
  {
   "cell_type": "markdown",
   "metadata": {},
   "source": [
    "Solution:\n",
    "* $u=3$\n",
    "* $v=-2$\n",
    "* $w=1$"
   ]
  },
  {
   "cell_type": "markdown",
   "metadata": {},
   "source": [
    "#### Python"
   ]
  },
  {
   "cell_type": "code",
   "execution_count": 6,
   "metadata": {},
   "outputs": [
    {
     "data": {
      "text/plain": [
       "array([[1, 1, 1, 2],\n",
       "       [1, 3, 3, 0],\n",
       "       [1, 3, 5, 2]])"
      ]
     },
     "execution_count": 6,
     "metadata": {},
     "output_type": "execute_result"
    }
   ],
   "source": [
    "# Matrix elimination\n",
    "matrix = np.array([[1,1,1,2], [1,3,3,0], [1,3,5,2]])\n",
    "matrix"
   ]
  },
  {
   "cell_type": "code",
   "execution_count": 7,
   "metadata": {},
   "outputs": [
    {
     "data": {
      "text/plain": [
       "array([[ 1,  1,  1,  2],\n",
       "       [ 0, -2, -2,  2],\n",
       "       [ 0, -2, -4,  0]])"
      ]
     },
     "execution_count": 7,
     "metadata": {},
     "output_type": "execute_result"
    }
   ],
   "source": [
    "# Step 1\n",
    "matrix[1] = matrix[0] - matrix[1]\n",
    "matrix[2] = matrix[0] - matrix[2]\n",
    "matrix"
   ]
  },
  {
   "cell_type": "code",
   "execution_count": 8,
   "metadata": {},
   "outputs": [
    {
     "data": {
      "text/plain": [
       "array([[ 1,  1,  1,  2],\n",
       "       [ 0, -2, -2,  2],\n",
       "       [ 0,  0,  2,  2]])"
      ]
     },
     "execution_count": 8,
     "metadata": {},
     "output_type": "execute_result"
    }
   ],
   "source": [
    "# Step 2\n",
    "matrix[2] = matrix[1] - matrix[2]\n",
    "matrix"
   ]
  },
  {
   "cell_type": "code",
   "execution_count": 9,
   "metadata": {},
   "outputs": [
    {
     "data": {
      "text/plain": [
       "array([ 3., -2.,  1.])"
      ]
     },
     "execution_count": 9,
     "metadata": {},
     "output_type": "execute_result"
    }
   ],
   "source": [
    "# Full solution\n",
    "a = np.array([[1,1,1], [1,3,3], [1,3,5]])\n",
    "b = np.array([2,0,2])\n",
    "np.linalg.solve(a,b)"
   ]
  },
  {
   "cell_type": "markdown",
   "metadata": {},
   "source": [
    "## 1.3.3\n",
    "Apply elimination and back-substitution:\n",
    "* $2u-v = 0$\n",
    "* $-u+2v-w=0$\n",
    "* $-v+2w-z=0$\n",
    "* $-w+2z=5$"
   ]
  },
  {
   "cell_type": "markdown",
   "metadata": {},
   "source": [
    "#### Manual\n",
    "Matrix:\n",
    "\n",
    "$\\begin{matrix}A\\\\B\\\\C\\\\D\\end{matrix}\n",
    "\\left[\n",
    "\\begin{matrix}\n",
    "2&-1&0&0\\\\\n",
    "-1&2&-1&0\\\\\n",
    "0&-1&2&-1\\\\\n",
    "0&0&-1&2\\end{matrix}\n",
    "\\; \\middle| \\,\n",
    "\\begin{matrix}0\\\\0\\\\0\\\\5\\end{matrix}\n",
    "\\right]$"
   ]
  },
  {
   "cell_type": "markdown",
   "metadata": {},
   "source": [
    "1. Subtract $-2 \\times B$ from $A$:\n",
    "\n",
    "$\\begin{bmatrix}\n",
    "2&-1&0&0&0\\\\\n",
    "0&3&-2&0&0\\\\\n",
    "0&-1&2&-1&0\\\\\n",
    "0&0&-1&2&5\\end{bmatrix}$"
   ]
  },
  {
   "cell_type": "markdown",
   "metadata": {},
   "source": [
    "2. Subtract $-3 \\times C$ from $B$:\n",
    "\n",
    "$\\begin{bmatrix}\n",
    "2&-1&0&0&0\\\\\n",
    "0&3&-2&0&0\\\\\n",
    "0&0&4&-3&0\\\\\n",
    "0&0&-1&2&5\n",
    "\\end{bmatrix}$"
   ]
  },
  {
   "cell_type": "markdown",
   "metadata": {},
   "source": [
    "3. Subtract $4 \\times D$ from $C$:\n",
    "\n",
    "$\\begin{bmatrix}\n",
    "2&-1&0&0&0\\\\\n",
    "0&3&-2&0&0\\\\\n",
    "0&0&4&-3&0\\\\\n",
    "0&0&0&5&20\n",
    "\\end{bmatrix}$"
   ]
  },
  {
   "cell_type": "markdown",
   "metadata": {},
   "source": [
    "Back-substitution:\n",
    "1. $5z = 20; z = 4$\n",
    "2. $4w - 3(4) = 0; w=3$\n",
    "3. $3v - 2(3) = 0; v=2$\n",
    "4. $2u -1(2) = 0; u=1$"
   ]
  },
  {
   "cell_type": "markdown",
   "metadata": {},
   "source": [
    "Solution:\n",
    "* $u=1$\n",
    "* $v=2$\n",
    "* $w=3$\n",
    "* $z=4$"
   ]
  },
  {
   "cell_type": "markdown",
   "metadata": {},
   "source": [
    "#### Python"
   ]
  },
  {
   "cell_type": "code",
   "execution_count": 10,
   "metadata": {},
   "outputs": [
    {
     "data": {
      "text/plain": [
       "array([[ 2, -1,  0,  0,  0],\n",
       "       [-1,  2, -1,  0,  0],\n",
       "       [ 0, -1,  2, -1,  0],\n",
       "       [ 0,  0, -1,  2,  5]])"
      ]
     },
     "execution_count": 10,
     "metadata": {},
     "output_type": "execute_result"
    }
   ],
   "source": [
    "# Matrix elimination\n",
    "matrix = np.array([[2,-1,0,0,0], [-1,2,-1,0,0], [0,-1,2,-1,0], [0,0,-1,2,5]])\n",
    "matrix"
   ]
  },
  {
   "cell_type": "code",
   "execution_count": 11,
   "metadata": {},
   "outputs": [
    {
     "data": {
      "text/plain": [
       "array([[ 2, -1,  0,  0,  0],\n",
       "       [ 0,  3, -2,  0,  0],\n",
       "       [ 0, -1,  2, -1,  0],\n",
       "       [ 0,  0, -1,  2,  5]])"
      ]
     },
     "execution_count": 11,
     "metadata": {},
     "output_type": "execute_result"
    }
   ],
   "source": [
    "# Step 1\n",
    "matrix[1] = matrix[0] - -2*matrix[1]\n",
    "matrix"
   ]
  },
  {
   "cell_type": "code",
   "execution_count": 12,
   "metadata": {},
   "outputs": [
    {
     "data": {
      "text/plain": [
       "array([[ 2, -1,  0,  0,  0],\n",
       "       [ 0,  3, -2,  0,  0],\n",
       "       [ 0,  0,  4, -3,  0],\n",
       "       [ 0,  0, -1,  2,  5]])"
      ]
     },
     "execution_count": 12,
     "metadata": {},
     "output_type": "execute_result"
    }
   ],
   "source": [
    "# Step 2\n",
    "matrix[2] = matrix[1] - -3*matrix[2]\n",
    "matrix"
   ]
  },
  {
   "cell_type": "code",
   "execution_count": 13,
   "metadata": {},
   "outputs": [
    {
     "data": {
      "text/plain": [
       "array([[ 2, -1,  0,  0,  0],\n",
       "       [ 0,  3, -2,  0,  0],\n",
       "       [ 0,  0,  4, -3,  0],\n",
       "       [ 0,  0,  0,  5, 20]])"
      ]
     },
     "execution_count": 13,
     "metadata": {},
     "output_type": "execute_result"
    }
   ],
   "source": [
    "# Step 3\n",
    "matrix[3] = matrix[2] - -4*matrix[3]\n",
    "matrix"
   ]
  },
  {
   "cell_type": "code",
   "execution_count": 14,
   "metadata": {},
   "outputs": [
    {
     "data": {
      "text/plain": [
       "array([1., 2., 3., 4.])"
      ]
     },
     "execution_count": 14,
     "metadata": {},
     "output_type": "execute_result"
    }
   ],
   "source": [
    "# Full solution\n",
    "a = np.array([[2,-1,0,0], [-1,2,-1,0], [0,-1,2,-1], [0,0,-1,2]])\n",
    "b = np.array([0,0,0,5])\n",
    "np.linalg.solve(a,b)"
   ]
  }
 ],
 "metadata": {
  "kernelspec": {
   "display_name": "Python 3",
   "language": "python",
   "name": "python3"
  },
  "language_info": {
   "codemirror_mode": {
    "name": "ipython",
    "version": 3
   },
   "file_extension": ".py",
   "mimetype": "text/x-python",
   "name": "python",
   "nbconvert_exporter": "python",
   "pygments_lexer": "ipython3",
   "version": "3.8.5"
  }
 },
 "nbformat": 4,
 "nbformat_minor": 4
}
